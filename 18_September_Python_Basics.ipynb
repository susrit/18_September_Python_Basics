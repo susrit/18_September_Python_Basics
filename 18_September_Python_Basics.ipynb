{
 "cells": [
  {
   "cell_type": "markdown",
   "id": "73c71be4-617a-404b-b190-cc1f9e876828",
   "metadata": {},
   "source": [
    "#Declare two variables, `x` and `y`, and assign them integer values. Swap the\n",
    "values of these variables without using any temporary variable\n"
   ]
  },
  {
   "cell_type": "code",
   "execution_count": 20,
   "id": "21700a9c-4aa2-4cdb-a7d4-328454b2140f",
   "metadata": {},
   "outputs": [
    {
     "name": "stdout",
     "output_type": "stream",
     "text": [
      "10 , 20\n"
     ]
    }
   ],
   "source": [
    "a=20\n",
    "b=10\n",
    "a=a+b\n",
    "b=a-b\n",
    "a=a-b\n",
    "print(a,\",\",b)"
   ]
  },
  {
   "cell_type": "markdown",
   "id": "822e40f1-4396-4015-8d65-5d54e0fac909",
   "metadata": {},
   "source": [
    "2. Create a program that calculates the area of a rectangle. Take the length and\n",
    "width as inputs from the user and store them in variables. Calculate and\n",
    "display the area."
   ]
  },
  {
   "cell_type": "code",
   "execution_count": 13,
   "id": "aea7605a-1694-4350-980c-fd6bc686d1c2",
   "metadata": {},
   "outputs": [
    {
     "name": "stdin",
     "output_type": "stream",
     "text": [
      "Enter the length value 12\n",
      "Enter the breadth value 12\n"
     ]
    },
    {
     "name": "stdout",
     "output_type": "stream",
     "text": [
      "The area of the rectangle is = 144\n"
     ]
    }
   ],
   "source": [
    "length=int(input(\"Enter the length value\"))\n",
    "Breadth=int(input(\"Enter the breadth value\"))\n",
    "area=length*Breadth\n",
    "print(\"The area of the rectangle is =\",area)"
   ]
  },
  {
   "cell_type": "markdown",
   "id": "9c0b849e-a0b4-48dd-985d-fb703282e065",
   "metadata": {},
   "source": [
    "3.Write a Python program that converts temperatures from Celsius to\n",
    "Fahrenheit. Take the temperature in Celsius as input, store it in a variable,\n",
    "convert it to Fahrenheit, and display the result."
   ]
  },
  {
   "cell_type": "code",
   "execution_count": 12,
   "id": "35b19a6f-b43e-4405-91bd-f863717b039a",
   "metadata": {},
   "outputs": [
    {
     "name": "stdin",
     "output_type": "stream",
     "text": [
      "Enter the celsius value 35\n"
     ]
    },
    {
     "name": "stdout",
     "output_type": "stream",
     "text": [
      "Fahrenheit value is = 95.0\n"
     ]
    }
   ],
   "source": [
    "celsius=int(input(\"Enter the celsius value\"))\n",
    "Fahrenheit=(1.8*celsius)+32\n",
    "print(\"Fahrenheit value is =\",Fahrenheit)"
   ]
  },
  {
   "cell_type": "markdown",
   "id": "8b64893b-be36-437a-8527-d4901127b4a6",
   "metadata": {},
   "source": [
    "1.Write a Python program that takes a string as input and prints the length of\n",
    "the string."
   ]
  },
  {
   "cell_type": "code",
   "execution_count": 11,
   "id": "5443a261-103a-478b-89d8-6a7f18d7b416",
   "metadata": {},
   "outputs": [
    {
     "name": "stdin",
     "output_type": "stream",
     "text": [
      "Enter string value susrita\n"
     ]
    },
    {
     "name": "stdout",
     "output_type": "stream",
     "text": [
      "7\n"
     ]
    }
   ],
   "source": [
    "str=input(\"Enter string value\")\n",
    "print(len(str))"
   ]
  },
  {
   "cell_type": "markdown",
   "id": "da72d0eb-54be-45a2-8151-66ae37e389db",
   "metadata": {},
   "source": [
    "3.Given a string, reverse the order of characters using string slicing and print\n",
    "the reversed string."
   ]
  },
  {
   "cell_type": "code",
   "execution_count": 51,
   "id": "5c2cae33-cbc7-427a-aadf-ebefc977b7a1",
   "metadata": {},
   "outputs": [],
   "source": [
    "string=\"susrita\""
   ]
  },
  {
   "cell_type": "code",
   "execution_count": 52,
   "id": "badbf996-c82a-4c00-8c89-039e8199e931",
   "metadata": {},
   "outputs": [
    {
     "data": {
      "text/plain": [
       "'atirsus'"
      ]
     },
     "execution_count": 52,
     "metadata": {},
     "output_type": "execute_result"
    }
   ],
   "source": [
    "string[::-1]"
   ]
  },
  {
   "cell_type": "markdown",
   "id": "e8b01917-84f8-401d-8cb7-aa9c0f54cdad",
   "metadata": {},
   "source": [
    "5.Create a program that takes a string as input and removes all the spaces from\n",
    "it. Print the modified string without spaces."
   ]
  },
  {
   "cell_type": "code",
   "execution_count": 9,
   "id": "dbcc317c-76b3-4e1b-8a93-c421a8d13148",
   "metadata": {},
   "outputs": [
    {
     "name": "stdin",
     "output_type": "stream",
     "text": [
      "Enter string value hare krishna\n"
     ]
    },
    {
     "name": "stdout",
     "output_type": "stream",
     "text": [
      "string after removing spaces is: harekrishna\n"
     ]
    }
   ],
   "source": [
    "str=input(\"Enter string value\")\n",
    "str=str.replace(\" \",\"\")\n",
    "print(\"string after removing spaces is:\",str)"
   ]
  },
  {
   "cell_type": "markdown",
   "id": "a3b58f9b-7ffc-46d5-9a24-fc432047069a",
   "metadata": {},
   "source": [
    "4,Write a program that takes a string as input and checks if it is a palindrome\n",
    "(reads the same forwards and backwards)."
   ]
  },
  {
   "cell_type": "code",
   "execution_count": 10,
   "id": "887a300f-910a-4ec4-a0b6-6e1ed12cd951",
   "metadata": {},
   "outputs": [
    {
     "name": "stdin",
     "output_type": "stream",
     "text": [
      "Enter string value dad\n"
     ]
    },
    {
     "name": "stdout",
     "output_type": "stream",
     "text": [
      "it is a palindrone\n"
     ]
    }
   ],
   "source": [
    "str=input(\"Enter string value\")\n",
    "if(str==str[::-1]):\n",
    " print(\"it is a palindrone\")\n",
    "else:\n",
    " print(\"it is not a palindrone\")"
   ]
  },
  {
   "cell_type": "markdown",
   "id": "cb5a06eb-7da7-4536-b57b-0e46a84f3088",
   "metadata": {},
   "source": [
    "2.Create a program that takes a sentence from the user and counts the number\n",
    "of vowels (a, e, i, o, u) in the string."
   ]
  },
  {
   "cell_type": "code",
   "execution_count": 8,
   "id": "1e164822-5001-4c37-aa09-6d993053cf02",
   "metadata": {},
   "outputs": [
    {
     "name": "stdin",
     "output_type": "stream",
     "text": [
      "Enter a phrase:  Easy It was\n"
     ]
    },
    {
     "name": "stdout",
     "output_type": "stream",
     "text": [
      "4\n"
     ]
    }
   ],
   "source": [
    "vowel = ['a', 'e', 'i', 'o', 'u', 'A', 'E', 'I', 'O', 'U']\n",
    "Sentence = input(\"Enter a phrase: \")\n",
    "count = 0\n",
    "for letter in Sentence:\n",
    "    if letter in vowel:\n",
    "        count += 1\n",
    "print(count)"
   ]
  },
  {
   "cell_type": "code",
   "execution_count": null,
   "id": "eeff620d-7780-4ea5-8fbb-1e81396bf5aa",
   "metadata": {},
   "outputs": [],
   "source": []
  }
 ],
 "metadata": {
  "kernelspec": {
   "display_name": "Python 3 (ipykernel)",
   "language": "python",
   "name": "python3"
  },
  "language_info": {
   "codemirror_mode": {
    "name": "ipython",
    "version": 3
   },
   "file_extension": ".py",
   "mimetype": "text/x-python",
   "name": "python",
   "nbconvert_exporter": "python",
   "pygments_lexer": "ipython3",
   "version": "3.10.8"
  }
 },
 "nbformat": 4,
 "nbformat_minor": 5
}
